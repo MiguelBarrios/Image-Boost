{
 "cells": [
  {
   "cell_type": "code",
   "execution_count": 122,
   "id": "c54c6154",
   "metadata": {},
   "outputs": [],
   "source": [
    "import pandas as pd\n",
    "import numpy as np\n",
    "import matplotlib.pyplot as plt\n",
    "import matplotlib.image as mpimg\n",
    "from PIL import Image\n",
    "import os\n",
    "from os import listdir\n",
    "from os.path import isfile, join\n",
    "from tqdm import tqdm"
   ]
  },
  {
   "cell_type": "code",
   "execution_count": 133,
   "id": "94b28ce1",
   "metadata": {},
   "outputs": [],
   "source": [
    "high_res_color_dir = './data/high-res-color/00000/'\n",
    "high_res_grayscale = './data/high-res-grayscale/00000/'\n",
    "low_res_grayscale  = './data/low-res/00000/'"
   ]
  },
  {
   "cell_type": "code",
   "execution_count": 138,
   "id": "ecbe95a2",
   "metadata": {},
   "outputs": [
    {
     "name": "stderr",
     "output_type": "stream",
     "text": [
      "100%|██████████████████████████████████████████████████████████████████████████████| 1000/1000 [04:22<00:00,  3.80it/s]\n"
     ]
    }
   ],
   "source": [
    "# convert images to grayscale and resize\n",
    "def reduce_dimensionality(dir_high_res_color, dir_high_res_grayscale, dir_low_res_grayscale):\n",
    "    # check if paths exists\n",
    "    if not os.path.exists(dir_high_res_grayscale):\n",
    "        os.makedirs(dir_high_res_grayscale)\n",
    "    if not os.path.exists(dir_low_res_grayscale):\n",
    "        os.makedirs(dir_low_res_grayscale)  \n",
    "    \n",
    "    files = [f for f in listdir(dir_high_res_color) if isfile(join(dir_high_res_color, f))]\n",
    "    for file in tqdm(files):\n",
    "        file_path = dir_high_res_color + file\n",
    "        file_path_grayscale = dir_high_res_grayscale + file;\n",
    "        file_path_low_res = dir_low_res_grayscale + file;\n",
    "        img = Image.open(file_path)\n",
    "        imgGray = img.convert('L')\n",
    "        imgGray.save(file_path_grayscale)\n",
    "        resized_im = imgGray.resize((64, 64))\n",
    "        imgGray.save(file_path_grayscale)\n",
    "        resized_im.save(file_path_low_res)\n",
    "reduce_dimensionality(high_res_color_dir, high_res_grayscale, low_res_grayscale)"
   ]
  }
 ],
 "metadata": {
  "kernelspec": {
   "display_name": "Python 3 (ipykernel)",
   "language": "python",
   "name": "python3"
  },
  "language_info": {
   "codemirror_mode": {
    "name": "ipython",
    "version": 3
   },
   "file_extension": ".py",
   "mimetype": "text/x-python",
   "name": "python",
   "nbconvert_exporter": "python",
   "pygments_lexer": "ipython3",
   "version": "3.9.13"
  }
 },
 "nbformat": 4,
 "nbformat_minor": 5
}
